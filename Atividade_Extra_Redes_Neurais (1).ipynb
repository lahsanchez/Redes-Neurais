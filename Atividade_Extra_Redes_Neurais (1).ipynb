{
  "nbformat": 4,
  "nbformat_minor": 0,
  "metadata": {
    "colab": {
      "name": "Atividade Extra - Redes Neurais.ipynb",
      "provenance": []
    },
    "kernelspec": {
      "name": "python3",
      "display_name": "Python 3"
    },
    "language_info": {
      "name": "python"
    }
  },
  "cells": [
    {
      "cell_type": "code",
      "metadata": {
        "id": "fdftS_QfByDQ"
      },
      "source": [
        "from sklearn.datasets import load_wine\n",
        "from sklearn.model_selection import train_test_split\n",
        "from sklearn.preprocessing import StandardScaler"
      ],
      "execution_count": 1,
      "outputs": []
    },
    {
      "cell_type": "code",
      "metadata": {
        "id": "kceZzihIC3dp"
      },
      "source": [
        "wine = load_wine()\n",
        "x = wine ['data']\n",
        "y = wine ['target']\n",
        "names = wine ['target_names']\n",
        "feature_names = wine ['feature_names']"
      ],
      "execution_count": 10,
      "outputs": []
    },
    {
      "cell_type": "code",
      "metadata": {
        "id": "YtNXkk23D1pM"
      },
      "source": [
        "scaler = StandardScaler()\n",
        "x_scaled = scaler.fit_transform(x)"
      ],
      "execution_count": 3,
      "outputs": []
    },
    {
      "cell_type": "code",
      "metadata": {
        "id": "jrGkJNUmECJe"
      },
      "source": [
        "x_train, x_test, y_train, y_test = train_test_split(x_scaled, y, test_size=0.2, random_state=2)"
      ],
      "execution_count": 4,
      "outputs": []
    },
    {
      "cell_type": "code",
      "metadata": {
        "id": "XuK2eK6KEVFo"
      },
      "source": [
        "import torch\n",
        "import torch.nn.functional as F\n",
        "import torch.nn as nn\n",
        "from torch import Tensor"
      ],
      "execution_count": 5,
      "outputs": []
    },
    {
      "cell_type": "code",
      "metadata": {
        "id": "uO5MogbAErsJ"
      },
      "source": [
        "class Model(nn.Module):\n",
        "  def __init__(self, input_dim):\n",
        "    super(Model, self).__init__()\n",
        "    self.layer1 = nn.Linear(input_dim, 50)\n",
        "    self.layer2 = nn.Linear(50, 50)\n",
        "    self.layer3 = nn.Linear(50, 3)\n",
        "\n",
        "  def forward(self, x):\n",
        "    x = F.relu(self.layer1(x))\n",
        "    x = F.relu(self.layer2(x))\n",
        "    x = F.softmax(self.layer3(x), dim=1)\n",
        "    return x"
      ],
      "execution_count": 7,
      "outputs": []
    },
    {
      "cell_type": "code",
      "metadata": {
        "colab": {
          "base_uri": "https://localhost:8080/"
        },
        "id": "5WEqUJ-dHC5i",
        "outputId": "9cc1a759-2478-4cf3-e555-799bc921b428"
      },
      "source": [
        "model = Model(x_train.shape[1])\n",
        "optimizer = torch.optim.Adam(model.parameters(), lr=0.001)\n",
        "loss_fn = nn.CrossEntropyLoss()\n",
        "model"
      ],
      "execution_count": 8,
      "outputs": [
        {
          "output_type": "execute_result",
          "data": {
            "text/plain": [
              "Model(\n",
              "  (layer1): Linear(in_features=13, out_features=50, bias=True)\n",
              "  (layer2): Linear(in_features=50, out_features=50, bias=True)\n",
              "  (layer3): Linear(in_features=50, out_features=3, bias=True)\n",
              ")"
            ]
          },
          "metadata": {},
          "execution_count": 8
        }
      ]
    },
    {
      "cell_type": "code",
      "metadata": {
        "id": "XJZX2QvyHa25"
      },
      "source": [
        "import tqdm\n",
        "import numpy as np"
      ],
      "execution_count": 9,
      "outputs": []
    },
    {
      "cell_type": "code",
      "metadata": {
        "id": "uBjqMqMAHtIw"
      },
      "source": [
        "EPOCHS = 100"
      ],
      "execution_count": 11,
      "outputs": []
    },
    {
      "cell_type": "code",
      "metadata": {
        "id": "zrj1Sp8GHwpC"
      },
      "source": [
        "x_train = Tensor(x_train).float()\n",
        "y_train = Tensor(y_train).long()\n",
        "x_test = Tensor(x_test).float()\n",
        "y_test = Tensor(y_test).long()"
      ],
      "execution_count": 12,
      "outputs": []
    },
    {
      "cell_type": "code",
      "metadata": {
        "id": "6eYMQJGYIxQv"
      },
      "source": [
        "loss_list = np.zeros((EPOCHS,))\n",
        "accuracy_list = np.zeros((EPOCHS,))"
      ],
      "execution_count": 13,
      "outputs": []
    },
    {
      "cell_type": "code",
      "metadata": {
        "colab": {
          "base_uri": "https://localhost:8080/"
        },
        "id": "rVuLilBiJpIh",
        "outputId": "6d186726-574a-48b8-b77b-2f994b1965ef"
      },
      "source": [
        "for epoch in tqdm.trange(EPOCHS):\n",
        "  y_pred = model(x_train)\n",
        "  loss = loss_fn(y_pred, y_train)\n",
        "  loss_list[epoch] = loss.item()\n",
        "\n",
        "  optimizer.zero_grad()\n",
        "  loss.backward()\n",
        "  optimizer.step()\n",
        "\n",
        "  with torch.no_grad():\n",
        "    y_pred = model(x_test)\n",
        "    correct = (torch.argmax(y_pred, dim=1) == y_test).type(torch.FloatTensor)\n",
        "    accuracy_list[epoch] = correct.mean()"
      ],
      "execution_count": 15,
      "outputs": [
        {
          "output_type": "stream",
          "name": "stderr",
          "text": [
            "100%|██████████| 100/100 [00:00<00:00, 236.34it/s]\n"
          ]
        }
      ]
    },
    {
      "cell_type": "code",
      "metadata": {
        "id": "NjYHcNEBK3MO"
      },
      "source": [
        "import matplotlib.pyplot as plt"
      ],
      "execution_count": 16,
      "outputs": []
    },
    {
      "cell_type": "code",
      "metadata": {
        "colab": {
          "base_uri": "https://localhost:8080/",
          "height": 388
        },
        "id": "JCxufAUwLAUx",
        "outputId": "fe097e89-113c-432c-d9bf-d39b29ca49d7"
      },
      "source": [
        "fig, (ax1, ax2) = plt.subplots(2, figsize = (12, 6), sharex=True)\n",
        "\n",
        "ax1.plot(accuracy_list)\n",
        "ax1.set_ylabel(\"validation accuracy\")\n",
        "ax2.plot(loss_list)\n",
        "ax2.set_ylabel(\"validation loss\")\n",
        "ax2.set_xlabel(\"epochs\");"
      ],
      "execution_count": 17,
      "outputs": [
        {
          "output_type": "display_data",
          "data": {
            "image/png": "[encoded data removed]",
            "text/plain": [
              "<Figure size 864x432 with 2 Axes>"
            ]
          },
          "metadata": {
            "needs_background": "light"
          }
        }
      ]
    },
    {
      "cell_type": "code",
      "metadata": {
        "colab": {
          "base_uri": "https://localhost:8080/"
        },
        "id": "K6gR6hpIMSwO",
        "outputId": "81cf386d-9f1e-4666-915d-c8afc812e6bc"
      },
      "source": [
        "model(Tensor([[1,14.23,1.71,2.43,15.6,127,2.8,3.06,.28,2.29,5.64,1.04,3.92]]))"
      ],
      "execution_count": 21,
      "outputs": [
        {
          "output_type": "execute_result",
          "data": {
            "text/plain": [
              "tensor([[1.0000e+00, 8.5909e-07, 1.0246e-40]], grad_fn=<SoftmaxBackward0>)"
            ]
          },
          "metadata": {},
          "execution_count": 21
        }
      ]
    }
  ]
}